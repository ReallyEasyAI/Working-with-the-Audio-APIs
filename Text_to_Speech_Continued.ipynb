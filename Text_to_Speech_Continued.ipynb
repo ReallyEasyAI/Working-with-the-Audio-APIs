{
 "cells": [
  {
   "cell_type": "markdown",
   "metadata": {},
   "source": [
    "# Working with Audio - Text-to-Speech Continued"
   ]
  },
  {
   "cell_type": "markdown",
   "metadata": {},
   "source": [
    "## Univeral Code Used for the Entire Notebook\n",
    "\n",
    "Let's set up our libraries and client"
   ]
  },
  {
   "cell_type": "code",
   "execution_count": null,
   "metadata": {},
   "outputs": [],
   "source": [
    "from openai import OpenAI  # For OpenAI API and event handling"
   ]
  },
  {
   "cell_type": "code",
   "execution_count": null,
   "metadata": {},
   "outputs": [],
   "source": [
    "# Initialize the OpenAI client\n",
    "client = OpenAI()  "
   ]
  },
  {
   "cell_type": "markdown",
   "metadata": {},
   "source": [
    "## All Default Settings\n",
    "\n",
    "## Request body\n",
    "\n",
    "**model** `string`  **Required**  \n",
    "One of the available **TTS models**: `tts-1` or `tts-1-hd`\n",
    "\n",
    "**input** `string`  **Required**  \n",
    "The text to generate audio for. The maximum length is 4096 characters.\n",
    "\n",
    "**voice** `string`  **Required**  \n",
    "The voice to use when generating the audio. Supported voices are `alloy`, `echo`, `fable`, `onyx`, `nova`, and `shimmer`. Previews of the voices are available in the **Text to speech guide**.\n",
    "\n",
    "**response_format** `string`  **Optional** Defaults to mp3  \n",
    "The format to audio in. Supported formats are `mp3`, `opus`, `aac`, `flac`, `wav`, and `pcm`.\n",
    "\n",
    "**speed** `number`  **Optional** Defaults to 1  \n",
    "The speed of the generated audio. Select a value from `0.25` to `4.0`. `1.0` is the default.\n"
   ]
  },
  {
   "cell_type": "code",
   "execution_count": null,
   "metadata": {},
   "outputs": [],
   "source": [
    "# Define the speech file path\n",
    "speech_file_path = \"./experiments/fight_on_the_beaches.mp3\"\n",
    "\n",
    "# Create the TTS (Text-to-Speech) request\n",
    "response = client.audio.speech.create(\n",
    "    model=\"tts-1\",  # Specify the TTS model to use\n",
    "    voice=\"fable\",  # Specify the voice to use for the TTS\n",
    "    response_format=\"mp3\",  # Specify the format of the response audio\n",
    "    speed=1.0,  # Specify the speed of the TTS\n",
    "    input=\"\"\"\n",
    "    We shall fight on the beaches, we shall fight on the landing grounds, we shall fight in the fields and in the streets, we shall fight in the hills; we shall never surrender.\n",
    "    \"\"\"  # Input text to be converted to speech\n",
    ")\n",
    "\n",
    "# Save the response audio to a file\n",
    "with open(speech_file_path, 'wb') as file:\n",
    "    file.write(response.content)  # Write the audio content to the file\n",
    "\n",
    "# Print a message indicating where the audio was saved\n",
    "print(f\"Audio saved to {speech_file_path}\")"
   ]
  },
  {
   "cell_type": "markdown",
   "metadata": {},
   "source": [
    "## Speeding it Up"
   ]
  },
  {
   "cell_type": "code",
   "execution_count": null,
   "metadata": {},
   "outputs": [],
   "source": [
    "# Define the speech file path\n",
    "speech_file_path = \"./experiments/fight_on_the_beaches_fast.mp3\"\n",
    "\n",
    "# Create the TTS (Text-to-Speech) request\n",
    "response = client.audio.speech.create(\n",
    "    model=\"tts-1\",  # Specify the TTS model to use\n",
    "    voice=\"fable\",  # Specify the voice to use for the TTS\n",
    "    response_format=\"mp3\",  # Specify the format of the response audio\n",
    "    speed=2.0,  # Specify the speed of the TTS\n",
    "    input=\"\"\"\n",
    "    We shall fight on the beaches, we shall fight on the landing grounds, we shall fight in the fields and in the streets, we shall fight in the hills; we shall never surrender.\n",
    "    \"\"\"  # Input text to be converted to speech\n",
    ")\n",
    "\n",
    "# Save the response audio to a file\n",
    "with open(speech_file_path, 'wb') as file:\n",
    "    file.write(response.content)  # Write the audio content to the file\n",
    "\n",
    "# Print a message indicating where the audio was saved\n",
    "print(f\"Audio saved to {speech_file_path}\")"
   ]
  },
  {
   "cell_type": "markdown",
   "metadata": {},
   "source": [
    "## Slowing it Down"
   ]
  },
  {
   "cell_type": "code",
   "execution_count": null,
   "metadata": {},
   "outputs": [],
   "source": [
    "# Define the speech file path\n",
    "speech_file_path = \"./experiments/fight_on_the_beaches_slow.mp3\"\n",
    "\n",
    "# Create the TTS (Text-to-Speech) request\n",
    "response = client.audio.speech.create(\n",
    "    model=\"tts-1\",  # Specify the TTS model to use\n",
    "    voice=\"fable\",  # Specify the voice to use for the TTS\n",
    "    response_format=\"mp3\",  # Specify the format of the response audio\n",
    "    speed=0.5,  # Specify the speed of the TTS\n",
    "    input=\"\"\"\n",
    "    We shall fight on the beaches, we shall fight on the landing grounds, we shall fight in the fields and in the streets, we shall fight in the hills; we shall never surrender.\n",
    "    \"\"\"  # Input text to be converted to speech\n",
    ")\n",
    "\n",
    "# Save the response audio to a file\n",
    "with open(speech_file_path, 'wb') as file:\n",
    "    file.write(response.content)  # Write the audio content to the file\n",
    "\n",
    "# Print a message indicating where the audio was saved\n",
    "print(f\"Audio saved to {speech_file_path}\")"
   ]
  },
  {
   "cell_type": "markdown",
   "metadata": {},
   "source": [
    "## Changing Voice"
   ]
  },
  {
   "cell_type": "code",
   "execution_count": null,
   "metadata": {},
   "outputs": [],
   "source": [
    "# Define the speech file path\n",
    "speech_file_path = \"./experiments/fight_on_the_beaches_shimmer.mp3\"\n",
    "\n",
    "# Create the TTS (Text-to-Speech) request\n",
    "response = client.audio.speech.create(\n",
    "    model=\"tts-1\",  # Specify the TTS model to use\n",
    "    voice=\"shimmer\",  # Specify the voice to use for the TTS\n",
    "    response_format=\"mp3\",  # Specify the format of the response audio\n",
    "    speed=1.0,  # Specify the speed of the TTS\n",
    "    input=\"\"\"\n",
    "    We shall fight on the beaches, we shall fight on the landing grounds, we shall fight in the fields and in the streets, we shall fight in the hills; we shall never surrender.\n",
    "    \"\"\"  # Input text to be converted to speech\n",
    ")\n",
    "\n",
    "# Save the response audio to a file\n",
    "with open(speech_file_path, 'wb') as file:\n",
    "    file.write(response.content)  # Write the audio content to the file\n",
    "\n",
    "# Print a message indicating where the audio was saved\n",
    "print(f\"Audio saved to {speech_file_path}\")"
   ]
  },
  {
   "cell_type": "markdown",
   "metadata": {},
   "source": [
    "## Changing Quality"
   ]
  },
  {
   "cell_type": "code",
   "execution_count": null,
   "metadata": {},
   "outputs": [],
   "source": [
    "# Define the speech file path\n",
    "speech_file_path = \"./experiments/fight_on_the_beaches_shimmer_hd.mp3\"\n",
    "\n",
    "# Create the TTS (Text-to-Speech) request\n",
    "response = client.audio.speech.create(\n",
    "    model=\"tts-1-hd\",  # Specify the TTS model to use\n",
    "    voice=\"shimmer\",  # Specify the voice to use for the TTS\n",
    "    response_format=\"mp3\",  # Specify the format of the response audio\n",
    "    speed=1.0,  # Specify the speed of the TTS\n",
    "    input=\"\"\"\n",
    "    We shall fight on the beaches, we shall fight on the landing grounds, we shall fight in the fields and in the streets, we shall fight in the hills; we shall never surrender.\n",
    "    \"\"\"  # Input text to be converted to speech\n",
    ")\n",
    "\n",
    "# Save the response audio to a file\n",
    "with open(speech_file_path, 'wb') as file:\n",
    "    file.write(response.content)  # Write the audio content to the file\n",
    "\n",
    "# Print a message indicating where the audio was saved\n",
    "print(f\"Audio saved to {speech_file_path}\")"
   ]
  },
  {
   "cell_type": "markdown",
   "metadata": {},
   "source": [
    "## Changing Format"
   ]
  },
  {
   "cell_type": "code",
   "execution_count": null,
   "metadata": {},
   "outputs": [],
   "source": [
    "# Define the speech file path\n",
    "speech_file_path = \"./experiments/fight_on_the_beaches.wav\"\n",
    "\n",
    "# Create the TTS (Text-to-Speech) request\n",
    "response = client.audio.speech.create(\n",
    "    model=\"tts-1\",  # Specify the TTS model to use\n",
    "    voice=\"fable\",  # Specify the voice to use for the TTS\n",
    "    response_format=\"wav\",  # Specify the format of the response audio\n",
    "    speed=1.0,  # Specify the speed of the TTS\n",
    "    input=\"\"\"\n",
    "    We shall fight on the beaches, we shall fight on the landing grounds, we shall fight in the fields and in the streets, we shall fight in the hills; we shall never surrender.\n",
    "    \"\"\"  # Input text to be converted to speech\n",
    ")\n",
    "\n",
    "# Save the response audio to a file\n",
    "with open(speech_file_path, 'wb') as file:\n",
    "    file.write(response.content)  # Write the audio content to the file\n",
    "\n",
    "# Print a message indicating where the audio was saved\n",
    "print(f\"Audio saved to {speech_file_path}\")"
   ]
  }
 ],
 "metadata": {
  "kernelspec": {
   "display_name": "NormalProgramming",
   "language": "python",
   "name": "python3"
  },
  "language_info": {
   "codemirror_mode": {
    "name": "ipython",
    "version": 3
   },
   "file_extension": ".py",
   "mimetype": "text/x-python",
   "name": "python",
   "nbconvert_exporter": "python",
   "pygments_lexer": "ipython3",
   "version": "3.11.4"
  }
 },
 "nbformat": 4,
 "nbformat_minor": 2
}
