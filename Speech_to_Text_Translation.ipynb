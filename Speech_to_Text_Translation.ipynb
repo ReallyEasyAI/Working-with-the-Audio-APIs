{
 "cells": [
  {
   "cell_type": "markdown",
   "metadata": {},
   "source": [
    "# Working with Audio - Whisper (Speech-to-Text) \n",
    "# Translation"
   ]
  },
  {
   "cell_type": "markdown",
   "metadata": {},
   "source": [
    "## Univeral Code Used for the Entire Notebook\n",
    "\n",
    "Let's set up our libraries and client"
   ]
  },
  {
   "cell_type": "code",
   "execution_count": 1,
   "metadata": {},
   "outputs": [],
   "source": [
    "from openai import OpenAI  # For OpenAI API and event handling"
   ]
  },
  {
   "cell_type": "code",
   "execution_count": 2,
   "metadata": {},
   "outputs": [],
   "source": [
    "# Initialize the OpenAI client\n",
    "client = OpenAI()  "
   ]
  },
  {
   "cell_type": "markdown",
   "metadata": {},
   "source": [
    "## Simple Translation\n",
    "\n",
    "#### Japanese to English"
   ]
  },
  {
   "cell_type": "code",
   "execution_count": 3,
   "metadata": {},
   "outputs": [
    {
     "name": "stdout",
     "output_type": "stream",
     "text": [
      "I couldn't do it. After I started studying Japanese, COVID-19 started immediately. Because of COVID-19, I couldn't take the Japanese language test in Belarus. And I couldn't do it at all. I couldn't take the Japanese language test in Belarus. But now you can take the test anywhere. If you are interested, you can take the test. When I started studying Japanese, I had to take the test. Will you take the test next month? No, in July. It's quite early. Will you study JLPT in the Japanese language school? Yes, I think so. The school said so. I think I will study JLPT in the school curriculum. Then you will take the JLPT test, right? Yes. But you don't have to go to the Japanese language school, do you? I want to live in Japan. That's the only way. You can get a student visa.\n"
     ]
    }
   ],
   "source": [
    "\n",
    "audio_file = open(\"./artifacts/japanese_audio_test.mp4\", \"rb\")\n",
    "\n",
    "translation = client.audio.translations.create(\n",
    "    model=\"whisper-1\",\n",
    "    file=audio_file\n",
    ")\n",
    "\n",
    "print(translation.text)\n"
   ]
  },
  {
   "cell_type": "markdown",
   "metadata": {},
   "source": [
    "## Temperature\n",
    "\n",
    "#### Japanese to English"
   ]
  },
  {
   "cell_type": "code",
   "execution_count": 4,
   "metadata": {},
   "outputs": [
    {
     "name": "stdout",
     "output_type": "stream",
     "text": [
      "I couldn't do it. After I started studying Japanese, the coronavirus started immediately. Because of the coronavirus, the Japanese language test in Belarus stopped immediately. And I couldn't do it at all. I couldn't do it. But now you can do it anywhere. If you are interested, you can do it. When I started studying Japanese, I had to take the test. Will you start studying Japanese next month? No, in July. It's a long time before that. Will you study JLPT in the Japanese language school? Yes, I think so. The school said so. I think I'll study JLPT in the school curriculum. I'm sure you'll take the JLPT test. Yes. But you don't have to go to a Japanese language school. I want to live in Japan. That's the only way. You can get a student visa.\n"
     ]
    }
   ],
   "source": [
    "audio_file = open(\"./artifacts/japanese_audio_test.mp4\", \"rb\")\n",
    "\n",
    "translation = client.audio.translations.create(\n",
    "    model=\"whisper-1\",\n",
    "    file=audio_file,\n",
    "    temperature=0.1\n",
    ")\n",
    "\n",
    "print(translation.text)"
   ]
  },
  {
   "cell_type": "code",
   "execution_count": 5,
   "metadata": {},
   "outputs": [
    {
     "name": "stdout",
     "output_type": "stream",
     "text": [
      "I could not do it. When I started studying Japanese, the corona started immediately. Because of the corona, the JLPT was stopped immediately. I was not able to do it at all because I did not have this test. Because of this the JLPT is not allowed. But now, you can do it anywhere. If you are interested, you can learn it now. When I started to study JLPT I was asked to take the test, too. Yes. Will you take this test next month? No... I will take the test in July. Oh, then it will be a month earlier. And in Japanese language school you will learn JLPT at the class? Yes, I think so. The school said so. Maybe you will take JLPT lessons at school curriculum. Then you will certainly get JLPT test. But I think we don't have to go to Japanese language school. But I want to stay in Japan. You can get Student Visa.\n"
     ]
    }
   ],
   "source": [
    "audio_file = open(\"./artifacts/japanese_audio_test.mp4\", \"rb\")\n",
    "\n",
    "translation = client.audio.translations.create(\n",
    "    model=\"whisper-1\",\n",
    "    file=audio_file,\n",
    "    temperature=0.9\n",
    ")\n",
    "\n",
    "print(translation.text)"
   ]
  },
  {
   "cell_type": "markdown",
   "metadata": {},
   "source": [
    "## Segments \n",
    "\n",
    "#### Japanese to English"
   ]
  },
  {
   "cell_type": "code",
   "execution_count": 6,
   "metadata": {},
   "outputs": [
    {
     "name": "stdout",
     "output_type": "stream",
     "text": [
      "Translation(text=\"I couldn't do it. After I started studying Japanese, COVID-19 started immediately. Because of COVID-19, I couldn't take the Japanese language test in Belarus. And I couldn't do it at all. I couldn't take the Japanese language test in Belarus. But now you can take the test anywhere. If you are interested, you can take the test. When I started studying Japanese, I had to take the test. Will you take the test next month? No, in July. It's quite early. Will you study JLPT in the Japanese language school? Yes, I think so. The school said so. I think I will study JLPT in the school curriculum. Then you will take the JLPT test, right? Yes. But you don't have to go to the Japanese language school, do you? I want to live in Japan. That's the only way. You can get a student visa.\", task='translate', language='english', duration=96.47000122070312, segments=[{'id': 0, 'seek': 0, 'start': 0.0, 'end': 2.0, 'text': \" I couldn't do it.\", 'tokens': [50364, 286, 2809, 380, 360, 309, 13, 50464], 'temperature': 0.0, 'avg_logprob': -0.5201385617256165, 'compression_ratio': 1.3851852416992188, 'no_speech_prob': 0.2355685979127884}, {'id': 1, 'seek': 0, 'start': 2.0, 'end': 8.0, 'text': ' After I started studying Japanese,', 'tokens': [50464, 2381, 286, 1409, 7601, 5433, 11, 50764], 'temperature': 0.0, 'avg_logprob': -0.5201385617256165, 'compression_ratio': 1.3851852416992188, 'no_speech_prob': 0.2355685979127884}, {'id': 2, 'seek': 0, 'start': 8.0, 'end': 14.0, 'text': ' COVID-19 started immediately.', 'tokens': [50764, 4566, 12, 3405, 1409, 4258, 13, 51064], 'temperature': 0.0, 'avg_logprob': -0.5201385617256165, 'compression_ratio': 1.3851852416992188, 'no_speech_prob': 0.2355685979127884}, {'id': 3, 'seek': 0, 'start': 14.0, 'end': 16.0, 'text': ' Because of COVID-19,', 'tokens': [51064, 1436, 295, 4566, 12, 3405, 11, 51164], 'temperature': 0.0, 'avg_logprob': -0.5201385617256165, 'compression_ratio': 1.3851852416992188, 'no_speech_prob': 0.2355685979127884}, {'id': 4, 'seek': 0, 'start': 16.0, 'end': 24.0, 'text': \" I couldn't take the Japanese language test in Belarus.\", 'tokens': [51164, 286, 2809, 380, 747, 264, 5433, 2856, 1500, 294, 35855, 13, 51564], 'temperature': 0.0, 'avg_logprob': -0.5201385617256165, 'compression_ratio': 1.3851852416992188, 'no_speech_prob': 0.2355685979127884}, {'id': 5, 'seek': 0, 'start': 24.0, 'end': 28.0, 'text': \" And I couldn't do it at all.\", 'tokens': [51564, 400, 286, 2809, 380, 360, 309, 412, 439, 13, 51764], 'temperature': 0.0, 'avg_logprob': -0.5201385617256165, 'compression_ratio': 1.3851852416992188, 'no_speech_prob': 0.2355685979127884}, {'id': 6, 'seek': 2800, 'start': 28.0, 'end': 35.0, 'text': \" I couldn't take the Japanese language test in Belarus.\", 'tokens': [50364, 286, 2809, 380, 747, 264, 5433, 2856, 1500, 294, 35855, 13, 50714], 'temperature': 0.0, 'avg_logprob': -0.5694432854652405, 'compression_ratio': 1.6291390657424927, 'no_speech_prob': 0.07415176928043365}, {'id': 7, 'seek': 2800, 'start': 35.0, 'end': 38.0, 'text': ' But now you can take the test anywhere.', 'tokens': [50714, 583, 586, 291, 393, 747, 264, 1500, 4992, 13, 50864], 'temperature': 0.0, 'avg_logprob': -0.5694432854652405, 'compression_ratio': 1.6291390657424927, 'no_speech_prob': 0.07415176928043365}, {'id': 8, 'seek': 2800, 'start': 38.0, 'end': 40.0, 'text': ' If you are interested, you can take the test.', 'tokens': [50864, 759, 291, 366, 3102, 11, 291, 393, 747, 264, 1500, 13, 50964], 'temperature': 0.0, 'avg_logprob': -0.5694432854652405, 'compression_ratio': 1.6291390657424927, 'no_speech_prob': 0.07415176928043365}, {'id': 9, 'seek': 2800, 'start': 40.0, 'end': 44.0, 'text': ' When I started studying Japanese,', 'tokens': [50964, 1133, 286, 1409, 7601, 5433, 11, 51164], 'temperature': 0.0, 'avg_logprob': -0.5694432854652405, 'compression_ratio': 1.6291390657424927, 'no_speech_prob': 0.07415176928043365}, {'id': 10, 'seek': 2800, 'start': 44.0, 'end': 48.0, 'text': ' I had to take the test.', 'tokens': [51164, 286, 632, 281, 747, 264, 1500, 13, 51364], 'temperature': 0.0, 'avg_logprob': -0.5694432854652405, 'compression_ratio': 1.6291390657424927, 'no_speech_prob': 0.07415176928043365}, {'id': 11, 'seek': 2800, 'start': 48.0, 'end': 52.0, 'text': ' Will you take the test next month?', 'tokens': [51364, 3099, 291, 747, 264, 1500, 958, 1618, 30, 51564], 'temperature': 0.0, 'avg_logprob': -0.5694432854652405, 'compression_ratio': 1.6291390657424927, 'no_speech_prob': 0.07415176928043365}, {'id': 12, 'seek': 2800, 'start': 52.0, 'end': 56.0, 'text': ' No, in July.', 'tokens': [51564, 883, 11, 294, 7370, 13, 51764], 'temperature': 0.0, 'avg_logprob': -0.5694432854652405, 'compression_ratio': 1.6291390657424927, 'no_speech_prob': 0.07415176928043365}, {'id': 13, 'seek': 5600, 'start': 56.0, 'end': 58.0, 'text': \" It's quite early.\", 'tokens': [50364, 467, 311, 1596, 2440, 13, 50464], 'temperature': 0.0, 'avg_logprob': -0.48949339985847473, 'compression_ratio': 1.4748201370239258, 'no_speech_prob': 0.16730628907680511}, {'id': 14, 'seek': 5600, 'start': 58.0, 'end': 65.0, 'text': ' Will you study JLPT in the Japanese language school?', 'tokens': [50464, 3099, 291, 2979, 508, 45196, 51, 294, 264, 5433, 2856, 1395, 30, 50814], 'temperature': 0.0, 'avg_logprob': -0.48949339985847473, 'compression_ratio': 1.4748201370239258, 'no_speech_prob': 0.16730628907680511}, {'id': 15, 'seek': 5600, 'start': 65.0, 'end': 67.0, 'text': ' Yes, I think so.', 'tokens': [50814, 1079, 11, 286, 519, 370, 13, 50914], 'temperature': 0.0, 'avg_logprob': -0.48949339985847473, 'compression_ratio': 1.4748201370239258, 'no_speech_prob': 0.16730628907680511}, {'id': 16, 'seek': 5600, 'start': 67.0, 'end': 71.0, 'text': ' The school said so.', 'tokens': [50914, 440, 1395, 848, 370, 13, 51114], 'temperature': 0.0, 'avg_logprob': -0.48949339985847473, 'compression_ratio': 1.4748201370239258, 'no_speech_prob': 0.16730628907680511}, {'id': 17, 'seek': 5600, 'start': 71.0, 'end': 76.0, 'text': ' I think I will study JLPT in the school curriculum.', 'tokens': [51114, 286, 519, 286, 486, 2979, 508, 45196, 51, 294, 264, 1395, 14302, 13, 51364], 'temperature': 0.0, 'avg_logprob': -0.48949339985847473, 'compression_ratio': 1.4748201370239258, 'no_speech_prob': 0.16730628907680511}, {'id': 18, 'seek': 5600, 'start': 76.0, 'end': 82.0, 'text': ' Then you will take the JLPT test, right?', 'tokens': [51364, 1396, 291, 486, 747, 264, 508, 45196, 51, 1500, 11, 558, 30, 51664], 'temperature': 0.0, 'avg_logprob': -0.48949339985847473, 'compression_ratio': 1.4748201370239258, 'no_speech_prob': 0.16730628907680511}, {'id': 19, 'seek': 5600, 'start': 82.0, 'end': 83.0, 'text': ' Yes.', 'tokens': [51664, 1079, 13, 51714], 'temperature': 0.0, 'avg_logprob': -0.48949339985847473, 'compression_ratio': 1.4748201370239258, 'no_speech_prob': 0.16730628907680511}, {'id': 20, 'seek': 8300, 'start': 83.0, 'end': 87.0, 'text': \" But you don't have to go to the Japanese language school, do you?\", 'tokens': [50364, 583, 291, 500, 380, 362, 281, 352, 281, 264, 5433, 2856, 1395, 11, 360, 291, 30, 50564], 'temperature': 0.0, 'avg_logprob': -0.44028836488723755, 'compression_ratio': 1.219298243522644, 'no_speech_prob': 0.7775018811225891}, {'id': 21, 'seek': 8300, 'start': 87.0, 'end': 89.0, 'text': ' I want to live in Japan.', 'tokens': [50564, 286, 528, 281, 1621, 294, 3367, 13, 50664], 'temperature': 0.0, 'avg_logprob': -0.44028836488723755, 'compression_ratio': 1.219298243522644, 'no_speech_prob': 0.7775018811225891}, {'id': 22, 'seek': 8300, 'start': 89.0, 'end': 92.0, 'text': \" That's the only way.\", 'tokens': [50664, 663, 311, 264, 787, 636, 13, 50814], 'temperature': 0.0, 'avg_logprob': -0.44028836488723755, 'compression_ratio': 1.219298243522644, 'no_speech_prob': 0.7775018811225891}, {'id': 23, 'seek': 8300, 'start': 92.0, 'end': 96.0, 'text': ' You can get a student visa.', 'tokens': [50814, 509, 393, 483, 257, 3107, 18589, 13, 51014], 'temperature': 0.0, 'avg_logprob': -0.44028836488723755, 'compression_ratio': 1.219298243522644, 'no_speech_prob': 0.7775018811225891}])\n",
      "\n",
      "\n",
      "\n",
      "I couldn't do it. After I started studying Japanese, COVID-19 started immediately. Because of COVID-19, I couldn't take the Japanese language test in Belarus. And I couldn't do it at all. I couldn't take the Japanese language test in Belarus. But now you can take the test anywhere. If you are interested, you can take the test. When I started studying Japanese, I had to take the test. Will you take the test next month? No, in July. It's quite early. Will you study JLPT in the Japanese language school? Yes, I think so. The school said so. I think I will study JLPT in the school curriculum. Then you will take the JLPT test, right? Yes. But you don't have to go to the Japanese language school, do you? I want to live in Japan. That's the only way. You can get a student visa.\n"
     ]
    }
   ],
   "source": [
    "audio_file = open(\"./artifacts/japanese_audio_test.mp4\", \"rb\")\n",
    "\n",
    "translation = client.audio.translations.create(\n",
    "    model=\"whisper-1\",\n",
    "    file=audio_file,\n",
    "    temperature=0,\n",
    "    response_format=\"verbose_json\",\n",
    ")\n",
    "\n",
    "print(translation)\n",
    "print(\"\\n\\n\")\n",
    "print(translation.text)"
   ]
  },
  {
   "cell_type": "markdown",
   "metadata": {},
   "source": [
    "## Response Format\n",
    "\n",
    "#### text"
   ]
  },
  {
   "cell_type": "code",
   "execution_count": 7,
   "metadata": {},
   "outputs": [
    {
     "name": "stdout",
     "output_type": "stream",
     "text": [
      "I couldn't do it. After I started studying Japanese, COVID-19 started immediately. Because of COVID-19, I couldn't take the Japanese language test in Belarus. And I couldn't do it at all. I couldn't take the Japanese language test in Belarus. But now you can take the test anywhere. If you are interested, you can take the test. When I started studying Japanese, I had to take the test. Will you take the test next month? No, in July. It's quite early. Will you study JLPT in the Japanese language school? Yes, I think so. The school said so. I think I will study JLPT in the school curriculum. Then you will take the JLPT test, right? Yes. But you don't have to go to the Japanese language school, do you? I want to live in Japan. That's the only way. You can get a student visa.\n",
      "\n"
     ]
    }
   ],
   "source": [
    "audio_file = open(\"./artifacts/japanese_audio_test.mp4\", \"rb\")\n",
    "\n",
    "translation = client.audio.translations.create(\n",
    "    model=\"whisper-1\",\n",
    "    file=audio_file,\n",
    "    temperature=0,\n",
    "    response_format=\"text\",\n",
    ")\n",
    "\n",
    "print(translation)"
   ]
  },
  {
   "cell_type": "markdown",
   "metadata": {},
   "source": [
    "#### srt (SubRip Subtitle)"
   ]
  },
  {
   "cell_type": "code",
   "execution_count": 8,
   "metadata": {},
   "outputs": [
    {
     "name": "stdout",
     "output_type": "stream",
     "text": [
      "1\n",
      "00:00:00,000 --> 00:00:02,000\n",
      "I couldn't do it.\n",
      "\n",
      "2\n",
      "00:00:02,000 --> 00:00:08,000\n",
      "After I started studying Japanese,\n",
      "\n",
      "3\n",
      "00:00:08,000 --> 00:00:14,000\n",
      "COVID-19 started immediately.\n",
      "\n",
      "4\n",
      "00:00:14,000 --> 00:00:16,000\n",
      "Because of COVID-19,\n",
      "\n",
      "5\n",
      "00:00:16,000 --> 00:00:24,000\n",
      "I couldn't take the Japanese language test in Belarus.\n",
      "\n",
      "6\n",
      "00:00:24,000 --> 00:00:28,000\n",
      "And I couldn't do it at all.\n",
      "\n",
      "7\n",
      "00:00:28,000 --> 00:00:35,000\n",
      "I couldn't take the Japanese language test in Belarus.\n",
      "\n",
      "8\n",
      "00:00:35,000 --> 00:00:38,000\n",
      "But now you can take the test anywhere.\n",
      "\n",
      "9\n",
      "00:00:38,000 --> 00:00:40,000\n",
      "If you are interested, you can take the test.\n",
      "\n",
      "10\n",
      "00:00:40,000 --> 00:00:44,000\n",
      "When I started studying Japanese,\n",
      "\n",
      "11\n",
      "00:00:44,000 --> 00:00:48,000\n",
      "I had to take the test.\n",
      "\n",
      "12\n",
      "00:00:48,000 --> 00:00:52,000\n",
      "Will you take the test next month?\n",
      "\n",
      "13\n",
      "00:00:52,000 --> 00:00:56,000\n",
      "No, in July.\n",
      "\n",
      "14\n",
      "00:00:56,000 --> 00:00:58,000\n",
      "It's quite early.\n",
      "\n",
      "15\n",
      "00:00:58,000 --> 00:01:05,000\n",
      "Will you study JLPT in the Japanese language school?\n",
      "\n",
      "16\n",
      "00:01:05,000 --> 00:01:07,000\n",
      "Yes, I think so.\n",
      "\n",
      "17\n",
      "00:01:07,000 --> 00:01:11,000\n",
      "The school said so.\n",
      "\n",
      "18\n",
      "00:01:11,000 --> 00:01:16,000\n",
      "I think I will study JLPT in the school curriculum.\n",
      "\n",
      "19\n",
      "00:01:16,000 --> 00:01:22,000\n",
      "Then you will take the JLPT test, right?\n",
      "\n",
      "20\n",
      "00:01:22,000 --> 00:01:23,000\n",
      "Yes.\n",
      "\n",
      "21\n",
      "00:01:23,000 --> 00:01:27,000\n",
      "But you don't have to go to the Japanese language school, do you?\n",
      "\n",
      "22\n",
      "00:01:27,000 --> 00:01:29,000\n",
      "I want to live in Japan.\n",
      "\n",
      "23\n",
      "00:01:29,000 --> 00:01:32,000\n",
      "That's the only way.\n",
      "\n",
      "24\n",
      "00:01:32,000 --> 00:01:36,000\n",
      "You can get a student visa.\n",
      "\n",
      "\n",
      "\n"
     ]
    }
   ],
   "source": [
    "audio_file = open(\"./artifacts/japanese_audio_test.mp4\", \"rb\")\n",
    "\n",
    "translation = client.audio.translations.create(\n",
    "    model=\"whisper-1\",\n",
    "    file=audio_file,\n",
    "    temperature=0,\n",
    "    response_format=\"srt\",\n",
    ")\n",
    "\n",
    "print(translation)"
   ]
  },
  {
   "cell_type": "markdown",
   "metadata": {},
   "source": [
    "#### vtt (Web Video Text Tracks)"
   ]
  },
  {
   "cell_type": "code",
   "execution_count": 10,
   "metadata": {},
   "outputs": [
    {
     "name": "stdout",
     "output_type": "stream",
     "text": [
      "WEBVTT\n",
      "\n",
      "00:00:00.000 --> 00:00:02.000\n",
      "I couldn't do it.\n",
      "\n",
      "00:00:02.000 --> 00:00:08.000\n",
      "After I started studying Japanese,\n",
      "\n",
      "00:00:08.000 --> 00:00:14.000\n",
      "COVID-19 started immediately.\n",
      "\n",
      "00:00:14.000 --> 00:00:16.000\n",
      "Because of COVID-19,\n",
      "\n",
      "00:00:16.000 --> 00:00:24.000\n",
      "I couldn't take the Japanese language test in Belarus.\n",
      "\n",
      "00:00:24.000 --> 00:00:28.000\n",
      "And I couldn't do it at all.\n",
      "\n",
      "00:00:28.000 --> 00:00:35.000\n",
      "I couldn't take the Japanese language test in Belarus.\n",
      "\n",
      "00:00:35.000 --> 00:00:38.000\n",
      "But now you can take the test anywhere.\n",
      "\n",
      "00:00:38.000 --> 00:00:40.000\n",
      "If you are interested, you can take the test.\n",
      "\n",
      "00:00:40.000 --> 00:00:44.000\n",
      "When I started studying Japanese,\n",
      "\n",
      "00:00:44.000 --> 00:00:48.000\n",
      "I had to take the test.\n",
      "\n",
      "00:00:48.000 --> 00:00:52.000\n",
      "Will you take the test next month?\n",
      "\n",
      "00:00:52.000 --> 00:00:56.000\n",
      "No, in July.\n",
      "\n",
      "00:00:56.000 --> 00:00:58.000\n",
      "It's quite early.\n",
      "\n",
      "00:00:58.000 --> 00:01:05.000\n",
      "Will you study JLPT in the Japanese language school?\n",
      "\n",
      "00:01:05.000 --> 00:01:07.000\n",
      "Yes, I think so.\n",
      "\n",
      "00:01:07.000 --> 00:01:11.000\n",
      "The school said so.\n",
      "\n",
      "00:01:11.000 --> 00:01:16.000\n",
      "I think I will study JLPT in the school curriculum.\n",
      "\n",
      "00:01:16.000 --> 00:01:22.000\n",
      "Then you will take the JLPT test, right?\n",
      "\n",
      "00:01:22.000 --> 00:01:23.000\n",
      "Yes.\n",
      "\n",
      "00:01:23.000 --> 00:01:27.000\n",
      "But you don't have to go to the Japanese language school, do you?\n",
      "\n",
      "00:01:27.000 --> 00:01:29.000\n",
      "I want to live in Japan.\n",
      "\n",
      "00:01:29.000 --> 00:01:32.000\n",
      "That's the only way.\n",
      "\n",
      "00:01:32.000 --> 00:01:36.000\n",
      "You can get a student visa.\n",
      "\n",
      "\n"
     ]
    }
   ],
   "source": [
    "audio_file = open(\"./artifacts/japanese_audio_test.mp4\", \"rb\")\n",
    "\n",
    "translation = client.audio.translations.create(\n",
    "    model=\"whisper-1\",\n",
    "    file=audio_file,\n",
    "    temperature=0,\n",
    "    response_format=\"vtt\",\n",
    ")\n",
    "\n",
    "print(translation)"
   ]
  },
  {
   "cell_type": "markdown",
   "metadata": {},
   "source": [
    "## Prompt\n"
   ]
  },
  {
   "cell_type": "code",
   "execution_count": 11,
   "metadata": {},
   "outputs": [
    {
     "name": "stdout",
     "output_type": "stream",
     "text": [
      "I couldn't do it. After I started studying Japanese, COVID-19 started immediately. Because of COVID-19, I couldn't take the Japanese language test in Belarus. And I couldn't do it at all. I couldn't take the Japanese language test in Belarus. But now you can take the test anywhere. If you are interested, you can take the test. When I started studying Japanese, I had to take the test. Will you take the test next month? No, in July. It's quite early. Will you study JLPT in the Japanese language school? Yes, I think so. The school said so. I think I will study JLPT in the school curriculum. Then you will take the JLPT test, right? Yes. But you don't have to go to the Japanese language school, do you? I want to live in Japan. That's the only way. You can get a student visa.\n",
      "\n",
      "\n",
      "================\n",
      "\n",
      "I couldn't do it. After I started studying Japanese, COVID-19 started immediately. Because of COVID-19, I couldn't take the JLPT in Belarus. I couldn't do it at all. I don't have a JLPT. But now you can do it anywhere. If you are interested... When I start studying Japanese... You have to take the JLPT, right? Yes. Will you start studying Japanese next month? No, in July. That's a long time. Will you study JLPT in the Japanese language school? Yes, I think so. The school said so. I think I will study JLPT in the school curriculum. Then you will take the JLPT exam, right? Yes. But you don't have to go to the Japanese language school, do you? I want to live in Japan. That's the only way. You can get a student visa.\n",
      "\n"
     ]
    }
   ],
   "source": [
    "audio_file = open(\"./artifacts/japanese_audio_test.mp4\", \"rb\")\n",
    "\n",
    "\n",
    "translation = client.audio.translations.create(\n",
    "    model=\"whisper-1\",\n",
    "    file=audio_file,\n",
    "    temperature=0,\n",
    "    response_format=\"text\",\n",
    ")\n",
    "\n",
    "print(translation)\n",
    "\n",
    "print (\"\\n================\\n\")\n",
    "translation = client.audio.translations.create(\n",
    "    model=\"whisper-1\",\n",
    "    file=audio_file,\n",
    "    prompt=\"JLPT\",\n",
    "    temperature=0,\n",
    "    response_format=\"text\",\n",
    ")\n",
    "\n",
    "print(translation)"
   ]
  },
  {
   "cell_type": "markdown",
   "metadata": {},
   "source": [
    "## Passing the Output"
   ]
  },
  {
   "cell_type": "code",
   "execution_count": 12,
   "metadata": {},
   "outputs": [
    {
     "name": "stdout",
     "output_type": "stream",
     "text": [
      "I couldn't do it. After I started studying Japanese, COVID-19 started immediately. Because of COVID-19, I couldn't take the Japanese language test in Belarus. And I couldn't do it at all. I don't have the Japanese language test. But now you can take it anywhere. If you are interested, you can take it. When I started studying Japanese, I had to take the test. Will you take the Japanese language test next month? No, in July. It's quite early. Will you study JLPT in the Japanese language school? Yes, I think so. The school said so. I think I will study JLPT in the school curriculum. Then you will take the JLPT test, right? Yes. But you don't have to go to the Japanese language school, do you? I want to live in Japan. That's the only way. You can get a student visa.\n",
      "\n",
      "\n",
      "=======================\n",
      "\n",
      "The context of this translation appears to be a conversation about learning the Japanese language and the process of taking the Japanese-Language Proficiency Test (JLPT). The speaker is expressing difficulties faced due to the COVID-19 pandemic, which impeded their ability to take the test in Belarus. The conversation also touches on the possibility of taking the test in the future and the plan to study for it as part of a language school's curriculum. Additionally, there is mention of the importance of the JLPT for obtaining a student visa to live in Japan, which suggests that the speaker has aspirations to move to Japan for further studies or work.\n"
     ]
    }
   ],
   "source": [
    "\n",
    "audio_file = open(\"./artifacts/japanese_audio_test.mp4\", \"rb\")\n",
    "\n",
    "translation = client.audio.translations.create(\n",
    "    model=\"whisper-1\",\n",
    "    file=audio_file,\n",
    "    prompt=\"Translate the following audio file.\",\n",
    "    response_format=\"text\",\n",
    "    temperature=0.0,\n",
    ")\n",
    "\n",
    "print(translation)\n",
    "print(\"\\n=======================\\n\")\n",
    "\n",
    "response = client.chat.completions.create(\n",
    "    model=\"gpt-4o\",\n",
    "    temperature=1,\n",
    "    messages=[\n",
    "        {\n",
    "            \"role\": \"system\",\n",
    "            \"content\": \"You will be given a translation of an audio file. Your task is to look at it and give me the context you think it is in.\"\n",
    "        },\n",
    "        {\n",
    "            \"role\": \"user\",\n",
    "            \"content\": translation\n",
    "        }\n",
    "    ]\n",
    ")\n",
    "\n",
    "print(response.choices[0].message.content)"
   ]
  }
 ],
 "metadata": {
  "kernelspec": {
   "display_name": "NormalProgramming",
   "language": "python",
   "name": "python3"
  },
  "language_info": {
   "codemirror_mode": {
    "name": "ipython",
    "version": 3
   },
   "file_extension": ".py",
   "mimetype": "text/x-python",
   "name": "python",
   "nbconvert_exporter": "python",
   "pygments_lexer": "ipython3",
   "version": "3.11.4"
  }
 },
 "nbformat": 4,
 "nbformat_minor": 2
}
